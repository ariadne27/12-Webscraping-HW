{
 "cells": [
  {
   "cell_type": "code",
   "execution_count": null,
   "metadata": {},
   "outputs": [],
   "source": [
    "from splinter import Browser\n",
    "from bs4 import BeautifulSoup\n",
    "import pandas as pd"
   ]
  },
  {
   "cell_type": "code",
   "execution_count": 2,
   "metadata": {},
   "outputs": [],
   "source": [
    "executable_path = {'executable_path': 'chromedriver.exe'}\n",
    "browser = Browser('chrome', **executable_path, headless=False)"
   ]
  },
  {
   "cell_type": "markdown",
   "metadata": {},
   "source": [
    "Mars News Code"
   ]
  },
  {
   "cell_type": "code",
   "execution_count": 3,
   "metadata": {},
   "outputs": [],
   "source": [
    "url = 'https://mars.nasa.gov/news/'\n",
    "browser.visit(url)"
   ]
  },
  {
   "cell_type": "code",
   "execution_count": 4,
   "metadata": {},
   "outputs": [],
   "source": [
    "html = browser.html\n",
    "soup = BeautifulSoup(html, 'html.parser')\n",
    "\n",
    "slides = soup.find_all('div', class_='list_text')\n",
    "titles = []\n",
    "paragraphs = []\n",
    "for slide in slides:\n",
    "    title = slide.find('div', class_='content_title')\n",
    "    paragraph = slide.find('div', class_='article_teaser_body')\n",
    "    titles.append(title)\n",
    "    paragraphs.append(paragraph)\n",
    "title_code = str(titles[0])\n",
    "titlesplit = title_code.split('>')[2]\n",
    "\n",
    "# title1 is the final title variable\n",
    "title1 = titlesplit.split('<')[0]\n",
    "para_code = str(paragraphs[0])\n",
    "parasplit = para_code.split('>')[1]\n",
    "# para1 is the final paragraph variable\n",
    "para1 = parasplit.split('<')[0]\n"
   ]
  },
  {
   "cell_type": "markdown",
   "metadata": {},
   "source": [
    "Mars Images Code"
   ]
  },
  {
   "cell_type": "code",
   "execution_count": 5,
   "metadata": {},
   "outputs": [],
   "source": [
    "url2 = 'https://www.jpl.nasa.gov/spaceimages/?search=&category=Mars'\n",
    "browser.visit(url2)"
   ]
  },
  {
   "cell_type": "code",
   "execution_count": 6,
   "metadata": {},
   "outputs": [],
   "source": [
    "html2 = browser.html\n",
    "soup2 = BeautifulSoup(html2, 'html.parser')\n",
    "featured_img = soup2.find('article', class_='carousel_item')\n",
    "fi_url = str(featured_img)\n",
    "split3 = fi_url.split('url(')[1]\n",
    "split4 = split3.split(')')[0]\n",
    "img_url = split4[1:-1]\n",
    "# featured_image_url is the final variable\n",
    "featured_image_url = 'https://www.jpl.nasa.gov' + img_url"
   ]
  },
  {
   "cell_type": "markdown",
   "metadata": {},
   "source": [
    "Mars Weather Code"
   ]
  },
  {
   "cell_type": "code",
   "execution_count": 7,
   "metadata": {},
   "outputs": [],
   "source": [
    "url3 = 'https://twitter.com/marswxreport?lang=en'\n",
    "browser.visit(url3)"
   ]
  },
  {
   "cell_type": "code",
   "execution_count": 10,
   "metadata": {},
   "outputs": [
    {
     "data": {
      "text/plain": [
       "'sol 245 (2019-08-05) low -99.9ºC (-147.8ºF) high -25.6ºC (-14.1ºF)\\nwinds from the SSE at 4.6 m/s (10.2 mph) gusting to 17.7 m/s (39.5 mph)\\npressure at 7.60 hPa'"
      ]
     },
     "execution_count": 10,
     "metadata": {},
     "output_type": "execute_result"
    }
   ],
   "source": [
    "html3 = browser.html\n",
    "soup3 = BeautifulSoup(html3, 'html.parser')\n",
    "# This pulls all tweets\n",
    "tweets = soup3.find_all('div', class_=\"js-tweet-text-container\")\n",
    "# Create a blank list to store tweets\n",
    "tweet_text = []\n",
    "# This key phrase is in all desired tweets\n",
    "key = 'InSight sol'\n",
    "\n",
    "# Find the desired tweets, add them to the list\n",
    "for tweet in tweets:\n",
    "    if key in str(tweet):\n",
    "        tweet_text.append(tweet)\n",
    "# Identify the most recent tweet        \n",
    "most_recent = str(tweet_text[0])\n",
    "\n",
    "# Clean up the text\n",
    "weathersplit = str(most_recent.split('lang=\"en\">InSight ')[1])\n",
    "\n",
    "mars_weather = weathersplit.split('<a')[0]\n",
    "mars_weather"
   ]
  },
  {
   "cell_type": "markdown",
   "metadata": {},
   "source": [
    "Mars Fact Code"
   ]
  },
  {
   "cell_type": "code",
   "execution_count": 11,
   "metadata": {},
   "outputs": [],
   "source": [
    "url4 = 'https://space-facts.com/mars/'"
   ]
  },
  {
   "cell_type": "code",
   "execution_count": 27,
   "metadata": {},
   "outputs": [
    {
     "data": {
      "text/plain": [
       "[  Mars - Earth Comparison             Mars            Earth\n",
       " 0               Diameter:         6,779 km        12,742 km\n",
       " 1                   Mass:  6.39 × 10^23 kg  5.97 × 10^24 kg\n",
       " 2                  Moons:                2                1\n",
       " 3      Distance from Sun:   227,943,824 km   149,598,262 km\n",
       " 4         Length of Year:   687 Earth days      365.24 days\n",
       " 5            Temperature:    -153 to 20 °C      -88 to 58°C,\n",
       "                       0                              1\n",
       " 0  Equatorial Diameter:                       6,792 km\n",
       " 1       Polar Diameter:                       6,752 km\n",
       " 2                 Mass:  6.39 × 10^23 kg (0.11 Earths)\n",
       " 3                Moons:            2 (Phobos & Deimos)\n",
       " 4       Orbit Distance:       227,943,824 km (1.38 AU)\n",
       " 5         Orbit Period:           687 days (1.9 years)\n",
       " 6  Surface Temperature:                   -87 to -5 °C\n",
       " 7         First Record:              2nd millennium BC\n",
       " 8          Recorded By:           Egyptian astronomers]"
      ]
     },
     "execution_count": 27,
     "metadata": {},
     "output_type": "execute_result"
    }
   ],
   "source": [
    "tables = pd.read_html(url4)\n",
    "tables"
   ]
  },
  {
   "cell_type": "code",
   "execution_count": 28,
   "metadata": {},
   "outputs": [
    {
     "data": {
      "text/plain": [
       "'<table border=\"1\" class=\"dataframe\">\\n  <thead>\\n    <tr style=\"text-align: left;\">\\n      <th></th>\\n      <th></th>\\n    </tr>\\n    <tr>\\n      <th>MARS PLANET PROFILE</th>\\n      <th></th>\\n    </tr>\\n  </thead>\\n  <tbody>\\n    <tr>\\n      <th>Equatorial Diameter:</th>\\n      <td>6,792 km</td>\\n    </tr>\\n    <tr>\\n      <th>Polar Diameter:</th>\\n      <td>6,752 km</td>\\n    </tr>\\n    <tr>\\n      <th>Mass:</th>\\n      <td>6.39 × 10^23 kg (0.11 Earths)</td>\\n    </tr>\\n    <tr>\\n      <th>Moons:</th>\\n      <td>2 (Phobos &amp; Deimos)</td>\\n    </tr>\\n    <tr>\\n      <th>Orbit Distance:</th>\\n      <td>227,943,824 km (1.38 AU)</td>\\n    </tr>\\n    <tr>\\n      <th>Orbit Period:</th>\\n      <td>687 days (1.9 years)</td>\\n    </tr>\\n    <tr>\\n      <th>Surface Temperature:</th>\\n      <td>-87 to -5 °C</td>\\n    </tr>\\n    <tr>\\n      <th>First Record:</th>\\n      <td>2nd millennium BC</td>\\n    </tr>\\n    <tr>\\n      <th>Recorded By:</th>\\n      <td>Egyptian astronomers</td>\\n    </tr>\\n  </tbody>\\n</table>'"
      ]
     },
     "execution_count": 28,
     "metadata": {},
     "output_type": "execute_result"
    }
   ],
   "source": [
    "df = tables[1]\n",
    "df.columns = ['MARS PLANET PROFILE', '']\n",
    "# df.set_index = ['']\n",
    "df.set_index('MARS PLANET PROFILE', inplace=True)\n",
    "df.to_html('mars_facts.html', justify='left')\n",
    "\n",
    "fname = 'mars_facts.html'\n",
    "html_file = open(fname, 'r')\n",
    "mars_facts = html_file.read() \n",
    "mars_facts"
   ]
  },
  {
   "cell_type": "markdown",
   "metadata": {},
   "source": [
    "Mars Hemispheres Code"
   ]
  },
  {
   "cell_type": "code",
   "execution_count": 29,
   "metadata": {},
   "outputs": [],
   "source": [
    "url5 = 'https://astrogeology.usgs.gov/search/results?q=hemisphere+enhanced&k1=target&v1=Mars'\n",
    "browser.visit(url5)"
   ]
  },
  {
   "cell_type": "code",
   "execution_count": 31,
   "metadata": {},
   "outputs": [],
   "source": [
    "html5 = browser.html\n",
    "soup5 = BeautifulSoup(html5, 'html.parser')\n",
    "items = soup5.find_all('div', class_='item')\n",
    "hemisphere_image_urls = []\n",
    "for item in items:\n",
    "    href = str(item.find('a', class_='itemLink product-item'))\n",
    "    splithref = href.split('map')[1]\n",
    "    hemihref = 'https://astropedia.astrogeology.usgs.gov/download' + splithref.split('\">')[0] + '.tif/full.jpg'\n",
    "    namefull = str(item.find('h3'))\n",
    "    name = namefull[4:-14]\n",
    "    hemisphere_image_urls.append({'title': name, 'img_url': hemihref})\n",
    "\n",
    "    "
   ]
  },
  {
   "cell_type": "markdown",
   "metadata": {},
   "source": [
    "Save variables to a dictionary (mars_data)"
   ]
  },
  {
   "cell_type": "code",
   "execution_count": 32,
   "metadata": {},
   "outputs": [],
   "source": [
    "mars_data = {\n",
    "    \"first_headline\": title1, \"first_para\": para1, \"featured_img\": featured_image_url, \"mars_weather\": mars_weather,\\\n",
    "    \"mars_facts\": mars_facts, \"hemispheres\": hemisphere_image_urls\n",
    "    }\n",
    "browser.quit()"
   ]
  },
  {
   "cell_type": "code",
   "execution_count": null,
   "metadata": {},
   "outputs": [],
   "source": []
  }
 ],
 "metadata": {
  "kernelspec": {
   "display_name": "Python 3",
   "language": "python",
   "name": "python3"
  },
  "language_info": {
   "codemirror_mode": {
    "name": "ipython",
    "version": 3
   },
   "file_extension": ".py",
   "mimetype": "text/x-python",
   "name": "python",
   "nbconvert_exporter": "python",
   "pygments_lexer": "ipython3",
   "version": "3.6.8"
  }
 },
 "nbformat": 4,
 "nbformat_minor": 2
}
